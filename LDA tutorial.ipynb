{
 "cells": [
  {
   "cell_type": "code",
   "execution_count": 1,
   "metadata": {},
   "outputs": [],
   "source": [
    "#This is an example of LDA implemenation"
   ]
  },
  {
   "cell_type": "code",
   "execution_count": 2,
   "metadata": {},
   "outputs": [],
   "source": [
    "# create sample documents\n",
    "doc_a = \"Is India distancing itself from the Tibetan exile community six decades after the Dalai Lama fled to the country?.That's the question many are asking after celebrations to mark the 60th anniversary of the spiritual leaders arrival in India have been moved or canceled, as Beijing and New Delhi seek to reboot ties in the wake of a tense year in bilateral relations.\" \n",
    "doc_b = \"When you have got leverage, dont be afraid to use it. That’s been Google’s  modus operandi in the news and publishing world over the last year or so as it has pushed its AMP platform, funding various news-related ventures that may put it ahead, and nourished its personalized Chrome tabs on mobile.\"\n",
    "doc_c = \"The Dalai Lama, the revered spiritual leader of Tibetans and an international icon, fled Tibet in 1959 following a failed anti-China uprising. He arrived in India and set up a government in exile in the northern Indian town of Dharamsala.\"\n",
    "doc_d = \"The German auto giant became the latest of several international companies that have backpedalled recently for offending Chinese consumers with advertising or information that clashes with Beijing's official position on Tibet and other Chinese-claimed regions.\"\n",
    "doc_e = \"First, it’s important to understand the factors driving this change. Last year, besides the tensions over Doklam, New Delhi’s invitation to the Dalai Lama to visit Arunachal Pradesh and its criticism of Beijing’s “Belt and Road Initiative” also significantly damaged bilateral ties. On its part, Beijing has been deepening its strategic ties with Pakistan, and it continues to oppose India’s entry into the Nuclear Suppliers Group, as well as its attempt to get Jaish-e-Mohammed chief Masood Azhar added to an international blacklist of terrorists. This has prompted New Delhi to look for a counterstrategy. \" \n",
    "\n",
    "# compile sample documents into a list\n",
    "doc_set_assign = [doc_a, doc_b, doc_c, doc_d, doc_e]"
   ]
  },
  {
   "cell_type": "code",
   "execution_count": 3,
   "metadata": {},
   "outputs": [],
   "source": [
    "from nltk.tokenize import RegexpTokenizer\n",
    "tokenizer = RegexpTokenizer(r'\\w+')"
   ]
  },
  {
   "cell_type": "code",
   "execution_count": 4,
   "metadata": {},
   "outputs": [
    {
     "name": "stdout",
     "output_type": "stream",
     "text": [
      "['is', 'india', 'distancing', 'itself', 'from', 'the', 'tibetan', 'exile', 'community', 'six', 'decades', 'after', 'the', 'dalai', 'lama', 'fled', 'to', 'the', 'country', 'that', 's', 'the', 'question', 'many', 'are', 'asking', 'after', 'celebrations', 'to', 'mark', 'the', '60th', 'anniversary', 'of', 'the', 'spiritual', 'leaders', 'arrival', 'in', 'india', 'have', 'been', 'moved', 'or', 'canceled', 'as', 'beijing', 'and', 'new', 'delhi', 'seek', 'to', 'reboot', 'ties', 'in', 'the', 'wake', 'of', 'a', 'tense', 'year', 'in', 'bilateral', 'relations']\n"
     ]
    }
   ],
   "source": [
    "#generating tokens\n",
    "raw = doc_set_assign.lower()\n",
    "tokens = tokenizer.tokenize(raw)\n",
    "\n",
    "print(tokens)\n",
    "#homework: to improve tokenization"
   ]
  },
  {
   "cell_type": "code",
   "execution_count": 5,
   "metadata": {},
   "outputs": [],
   "source": [
    "from stop_words import get_stop_words\n",
    "\n",
    "# create English stop words list\n",
    "en_stop = get_stop_words('en')"
   ]
  },
  {
   "cell_type": "code",
   "execution_count": 6,
   "metadata": {},
   "outputs": [
    {
     "name": "stdout",
     "output_type": "stream",
     "text": [
      "['india', 'distancing', 'tibetan', 'exile', 'community', 'six', 'decades', 'dalai', 'lama', 'fled', 'country', 's', 'question', 'many', 'asking', 'celebrations', 'mark', '60th', 'anniversary', 'spiritual', 'leaders', 'arrival', 'india', 'moved', 'canceled', 'beijing', 'new', 'delhi', 'seek', 'reboot', 'ties', 'wake', 'tense', 'year', 'bilateral', 'relations']\n",
      "['india', 'distancing', 'tibetan', 'exile', 'community', 'six', 'decades', 'dalai', 'lama', 'fled', \"country?.that's\", 'question', 'many', 'asking', 'celebrations', 'mark', '60th', 'anniversary', 'spiritual', 'leaders', 'arrival', 'india', 'moved', 'canceled,', 'beijing', 'new', 'delhi', 'seek', 'reboot', 'ties', 'wake', 'tense', 'year', 'bilateral', 'relations.']\n"
     ]
    }
   ],
   "source": [
    "# remove stop words from tokens\n",
    "stopped_tokens = [i for i in tokens if not i in en_stop]\n",
    "\n",
    "print(stopped_tokens)\n",
    "\n",
    "stopped_tokens2 = [i for i in raw.split() if not i in en_stop]\n",
    "\n",
    "print(stopped_tokens2)"
   ]
  },
  {
   "cell_type": "code",
   "execution_count": 13,
   "metadata": {},
   "outputs": [
    {
     "name": "stdout",
     "output_type": "stream",
     "text": [
      "['first', 'import', 'understand', 'factor', 'drive', 'chang', 'last', 'year', 'besid', 'tension', 'doklam', 'new', 'delhi', 'invit', 'dalai', 'lama', 'visit', 'arunach', 'pradesh', 'critic', 'beij', 'belt', 'road', 'initi', 'also', 'significantli', 'damag', 'bilater', 'tie', 'part', 'beij', 'deepen', 'strateg', 'tie', 'pakistan', 'continu', 'oppos', 'india', 'entri', 'nuclear', 'supplier', 'group', 'well', 'attempt', 'get', 'jaish', 'e', 'moham', 'chief', 'masood', 'azhar', 'ad', 'intern', 'blacklist', 'terrorist', 'prompt', 'new', 'delhi', 'look', 'counterstrategi']\n"
     ]
    }
   ],
   "source": [
    "from nltk.stem.porter import PorterStemmer\n",
    "\n",
    "# Create p_stemmer of class PorterStemmer\n",
    "p_stemmer = PorterStemmer()\n",
    "\n",
    "texts = [p_stemmer.stem(i) for i in stopped_tokens]\n",
    "print(texts)\n",
    "\n"
   ]
  },
  {
   "cell_type": "code",
   "execution_count": 18,
   "metadata": {},
   "outputs": [
    {
     "name": "stdout",
     "output_type": "stream",
     "text": [
      "['india', 'distancing', 'tibetan', 'exile', 'community', 'six', 'decades', 'dalai', 'lama', 'fled', 'country', 'thats', 'question', 'many', 'asking', 'celebrations', 'mark', '60th', 'anniversary', 'spiritual', 'leaders', 'arrival', 'india', 'moved', 'canceled', 'beijing', 'new', 'delhi', 'seek', 'reboot', 'ties', 'wake', 'tense', 'year', 'bilateral', 'relations']\n"
     ]
    }
   ],
   "source": [
    "#Rerunning the code with filtered text\n",
    "\n",
    "# create sample documents\n",
    "doc_a = \"Is India distancing itself from the Tibetan exile community six decades after the Dalai Lama fled to the country? Thats the question many are asking after celebrations to mark the 60th anniversary of the spiritual leaders arrival in India have been moved or canceled, as Beijing and New Delhi seek to reboot ties in the wake of a tense year in bilateral relations.\" \n",
    "doc_b = \"When you have got leverage, dont be afraid to use it. Thats been Googles  modus operandi in the news and publishing world over the last year or so as it has pushed its AMP platform, funding various news-related ventures that may put it ahead, and nourished its personalized Chrome tabs on mobile.\"\n",
    "doc_c = \"The Dalai Lama, the revered spiritual leader of Tibetans and an international icon, fled Tibet in 1959 following a failed anti-China uprising. He arrived in India and set up a government in exile in the northern Indian town of Dharamsala.\"\n",
    "doc_d = \"The German auto giant became the latest of several international companies that have backpedalled recently for offending Chinese consumers with advertising or information that clashes with Beijings official position on Tibet and other Chinese-claimed regions.\"\n",
    "doc_e = \"First, its important to understand the factors driving this change. Last year, besides the tensions over Doklam, New Delhis invitation to the Dalai Lama to visit Arunachal Pradesh and its criticism of Beijings “Belt and Road Initiative” also significantly damaged bilateral ties. On its part, Beijing has been deepening its strategic ties with Pakistan, and it continues to oppose India entry into the Nuclear Suppliers Group, as well as its attempt to get Jaish-e-Mohammed chief Masood Azhar added to an international blacklist of terrorists. This has prompted New Delhi to look for a counterstrategy. \" \n",
    "\n",
    "# compile sample documents into a list\n",
    "doc_set_assign = [doc_a, doc_b, doc_c, doc_d, doc_e]\n",
    "\n",
    "#generating tokens\n",
    "raw = doc_a.lower()\n",
    "tokens = tokenizer.tokenize(raw)\n",
    "\n",
    "from stop_words import get_stop_words\n",
    "\n",
    "# create English stop words list\n",
    "en_stop = get_stop_words('en')\n",
    "\n",
    "# remove stop words from tokens\n",
    "stopped_tokens = [i for i in tokens if not i in en_stop]\n",
    "print(stopped_tokens)"
   ]
  },
  {
   "cell_type": "code",
   "execution_count": 26,
   "metadata": {},
   "outputs": [
    {
     "name": "stdout",
     "output_type": "stream",
     "text": [
      "---lemmatization on regular expression split with filtered text-----\n",
      "['first', 'important', 'understand', 'factor', 'driving', 'change', 'last', 'year', 'besides', 'tension', 'doklam', 'new', 'delhi', 'invitation', 'dalai', 'lama', 'visit', 'arunachal', 'pradesh', 'criticism', 'beijing', 'belt', 'road', 'initiative', 'also', 'significantly', 'damaged', 'bilateral', 'tie', 'part', 'beijing', 'deepening', 'strategic', 'tie', 'pakistan', 'continues', 'oppose', 'india', 'entry', 'nuclear', 'supplier', 'group', 'well', 'attempt', 'get', 'jaish', 'e', 'mohammed', 'chief', 'masood', 'azhar', 'added', 'international', 'blacklist', 'terrorist', 'prompted', 'new', 'delhi', 'look', 'counterstrategy']\n"
     ]
    }
   ],
   "source": [
    "#lemmmatizaion\n",
    "from nltk.stem import WordNetLemmatizer\n",
    "\n",
    "print(\"---lemmatization on regular expression split with filtered text-----\")\n",
    "lem = map(lemma.lemmatize, stopped_tokens)\n",
    "itemarr=[]\n",
    "for item in lem:\n",
    "    itemarr.append(item)\n",
    "print(itemarr)\n"
   ]
  },
  {
   "cell_type": "code",
   "execution_count": 24,
   "metadata": {},
   "outputs": [],
   "source": [
    "#source from https://rstudio-pubs-static.s3.amazonaws.com/79360_850b2a69980c4488b1db95987a24867a.html\n",
    "from nltk.tokenize import RegexpTokenizer\n",
    "from stop_words import get_stop_words\n",
    "from nltk.stem.porter import PorterStemmer\n",
    "from gensim import corpora, models\n",
    "import gensim\n",
    "\n",
    "tokenizer = RegexpTokenizer(r'\\w+')\n",
    "\n",
    "# create English stop words list\n",
    "en_stop = get_stop_words('en')\n",
    "\n",
    "# Create stemmer\n",
    "p_stemmer = PorterStemmer()\n",
    "\n",
    "# create sample documents\n",
    "doc_a = \"Is India distancing itself from the Tibetan exile community six decades after the Dalai Lama fled to the country? Thats the question many are asking after celebrations to mark the 60th anniversary of the spiritual leaders arrival in India have been moved or canceled, as Beijing and New Delhi seek to reboot ties in the wake of a tense year in bilateral relations.\" \n",
    "doc_b = \"When you have got leverage, dont be afraid to use it. Thats been Googles  modus operandi in the news and publishing world over the last year or so as it has pushed its AMP platform, funding various news-related ventures that may put it ahead, and nourished its personalized Chrome tabs on mobile.\"\n",
    "doc_c = \"The Dalai Lama, the revered spiritual leader of Tibetans and an international icon, fled Tibet in 1959 following a failed anti-China uprising. He arrived in India and set up a government in exile in the northern Indian town of Dharamsala.\"\n",
    "doc_d = \"The German auto giant became the latest of several international companies that have backpedalled recently for offending Chinese consumers with advertising or information that clashes with Beijings official position on Tibet and other Chinese-claimed regions.\"\n",
    "doc_e = \"First, its important to understand the factors driving this change. Last year, besides the tensions over Doklam, New Delhis invitation to the Dalai Lama to visit Arunachal Pradesh and its criticism of Beijings “Belt and Road Initiative” also significantly damaged bilateral ties. On its part, Beijing has been deepening its strategic ties with Pakistan, and it continues to oppose India entry into the Nuclear Suppliers Group, as well as its attempt to get Jaish-e-Mohammed chief Masood Azhar added to an international blacklist of terrorists. This has prompted New Delhi to look for a counterstrategy. \" \n",
    "\n",
    "\n",
    "# compile sample documents into a list\n",
    "doc_set_assign = [doc_a, doc_b, doc_c, doc_d, doc_e]\n",
    "\n",
    "# list for tokenized documents in loop\n",
    "texts = []\n",
    "\n",
    "# loop through document list\n",
    "for i in doc_set_assign:\n",
    "    \n",
    "    # clean and tokenize document string\n",
    "    raw = i.lower()\n",
    "    tokens = tokenizer.tokenize(raw)\n",
    "\n",
    "    # remove stop words from tokens\n",
    "    stopped_tokens = [i for i in tokens if not i in en_stop]\n",
    "    \n",
    "    # stem tokens\n",
    "    stemmed_tokens = [p_stemmer.stem(i) for i in stopped_tokens]\n",
    "    \n",
    "    # add tokens to list\n",
    "    texts.append(stemmed_tokens)\n",
    "\n",
    "    \n",
    "# turn our tokenized documents into a id <-> term dictionary\n",
    "from gensim import corpora, models\n",
    "dictionary = corpora.Dictionary(texts)\n",
    "    \n",
    "# convert tokenized documents into a document-term matrix#our dictionary must be converted into a bag-of-words:\n",
    "corpus = [dictionary.doc2bow(text) for text in texts]\n",
    "\n",
    "\n",
    "# generate LDA model\n",
    "ldamodel = gensim.models.ldamodel.LdaModel(corpus, num_topics=2, id2word = dictionary, passes=20)"
   ]
  },
  {
   "cell_type": "code",
   "execution_count": 25,
   "metadata": {},
   "outputs": [
    {
     "name": "stdout",
     "output_type": "stream",
     "text": [
      "[(0, '0.020*\"beij\" + 0.020*\"intern\" + 0.014*\"tie\" + 0.014*\"delhi\"'), (1, '0.018*\"india\" + 0.018*\"year\" + 0.018*\"that\" + 0.018*\"relat\"')]\n"
     ]
    }
   ],
   "source": [
    "print(ldamodel.print_topics(num_topics=2, num_words=4))"
   ]
  },
  {
   "cell_type": "code",
   "execution_count": 22,
   "metadata": {},
   "outputs": [
    {
     "name": "stdout",
     "output_type": "stream",
     "text": [
      "[['india', 'distancing', 'tibetan', 'exile', 'community', 'six', 'decade', 'dalai', 'lama', 'fled', 'country', 'thats', 'question', 'many', 'asking', 'celebration', 'mark', '60th', 'anniversary', 'spiritual', 'leader', 'arrival', 'india', 'moved', 'canceled', 'beijing', 'new', 'delhi', 'seek', 'reboot', 'tie', 'wake', 'tense', 'year', 'bilateral', 'relation'], ['got', 'leverage', 'dont', 'afraid', 'use', 'thats', 'google', 'modus', 'operandi', 'news', 'publishing', 'world', 'last', 'year', 'pushed', 'amp', 'platform', 'funding', 'various', 'news', 'related', 'venture', 'may', 'put', 'ahead', 'nourished', 'personalized', 'chrome', 'tab', 'mobile'], ['dalai', 'lama', 'revered', 'spiritual', 'leader', 'tibetan', 'international', 'icon', 'fled', 'tibet', '1959', 'following', 'failed', 'anti', 'china', 'uprising', 'arrived', 'india', 'set', 'government', 'exile', 'northern', 'indian', 'town', 'dharamsala'], ['german', 'auto', 'giant', 'became', 'latest', 'several', 'international', 'company', 'backpedalled', 'recently', 'offending', 'chinese', 'consumer', 'advertising', 'information', 'clash', 'beijing', 'official', 'position', 'tibet', 'chinese', 'claimed', 'region'], ['first', 'important', 'understand', 'factor', 'driving', 'change', 'last', 'year', 'besides', 'tension', 'doklam', 'new', 'delhi', 'invitation', 'dalai', 'lama', 'visit', 'arunachal', 'pradesh', 'criticism', 'beijing', 'belt', 'road', 'initiative', 'also', 'significantly', 'damaged', 'bilateral', 'tie', 'part', 'beijing', 'deepening', 'strategic', 'tie', 'pakistan', 'continues', 'oppose', 'india', 'entry', 'nuclear', 'supplier', 'group', 'well', 'attempt', 'get', 'jaish', 'e', 'mohammed', 'chief', 'masood', 'azhar', 'added', 'international', 'blacklist', 'terrorist', 'prompted', 'new', 'delhi', 'look', 'counterstrategy']]\n"
     ]
    }
   ],
   "source": [
    "\n",
    "\n",
    "#source from https://rstudio-pubs-static.s3.amazonaws.com/79360_850b2a69980c4488b1db95987a24867a.html\n",
    "from nltk.tokenize import RegexpTokenizer\n",
    "from stop_words import get_stop_words\n",
    "from nltk.stem import WordNetLemmatizer\n",
    "from gensim import corpora, models\n",
    "import gensim\n",
    "\n",
    "\n",
    "tokenizer = RegexpTokenizer(r'\\w+')\n",
    "\n",
    "# create English stop words list\n",
    "en_stop = get_stop_words('en')\n",
    "\n",
    "#create Lemma\n",
    "lemma = WordNetLemmatizer()\n",
    "\n",
    "\n",
    "# create sample documents\n",
    "doc_a = \"Is India distancing itself from the Tibetan exile community six decades after the Dalai Lama fled to the country? Thats the question many are asking after celebrations to mark the 60th anniversary of the spiritual leaders arrival in India have been moved or canceled, as Beijing and New Delhi seek to reboot ties in the wake of a tense year in bilateral relations.\" \n",
    "doc_b = \"When you have got leverage, dont be afraid to use it. Thats been Googles  modus operandi in the news and publishing world over the last year or so as it has pushed its AMP platform, funding various news-related ventures that may put it ahead, and nourished its personalized Chrome tabs on mobile.\"\n",
    "doc_c = \"The Dalai Lama, the revered spiritual leader of Tibetans and an international icon, fled Tibet in 1959 following a failed anti-China uprising. He arrived in India and set up a government in exile in the northern Indian town of Dharamsala.\"\n",
    "doc_d = \"The German auto giant became the latest of several international companies that have backpedalled recently for offending Chinese consumers with advertising or information that clashes with Beijings official position on Tibet and other Chinese-claimed regions.\"\n",
    "doc_e = \"First, its important to understand the factors driving this change. Last year, besides the tensions over Doklam, New Delhis invitation to the Dalai Lama to visit Arunachal Pradesh and its criticism of Beijings “Belt and Road Initiative” also significantly damaged bilateral ties. On its part, Beijing has been deepening its strategic ties with Pakistan, and it continues to oppose India entry into the Nuclear Suppliers Group, as well as its attempt to get Jaish-e-Mohammed chief Masood Azhar added to an international blacklist of terrorists. This has prompted New Delhi to look for a counterstrategy. \" \n",
    "\n",
    "\n",
    "\n",
    "# compile sample documents into a list\n",
    "doc_set_assign = [doc_a, doc_b, doc_c, doc_d, doc_e]\n",
    "\n",
    "\n",
    "\n",
    "# list for tokenized documents in loop\n",
    "texts = []\n",
    "\n",
    "# loop through document list\n",
    "for i in doc_set_assign:\n",
    "    \n",
    "    # clean and tokenize document string\n",
    "    raw = i.lower()\n",
    "    tokens = tokenizer.tokenize(raw)\n",
    "\n",
    "    # remove stop words from tokens\n",
    "    stopped_tokens = [i for i in tokens if not i in en_stop]\n",
    "    \n",
    "    # lemmatization function\n",
    "    lem = map(lemma.lemmatize, stopped_tokens)\n",
    "    itemarr=[]\n",
    "    for item in lem:\n",
    "        # add tokens to list\n",
    "        itemarr.append(item)\n",
    "    texts.append(itemarr)\n",
    "    \n",
    "        \n",
    "print(texts) \n",
    "# turn our tokenized documents into a id <-> term dictionary\n",
    "from gensim import corpora, models\n",
    "dictionary = corpora.Dictionary(texts)\n",
    "    \n",
    "# convert tokenized documents into a document-term matrix#our dictionary must be converted into a bag-of-words:\n",
    "corpus = [dictionary.doc2bow(text) for text in texts]\n",
    "\n",
    "\n",
    "# generate LDA model\n",
    "ldamodel = gensim.models.ldamodel.LdaModel(corpus, num_topics=2, id2word = dictionary, passes=20)"
   ]
  },
  {
   "cell_type": "code",
   "execution_count": 23,
   "metadata": {},
   "outputs": [
    {
     "name": "stdout",
     "output_type": "stream",
     "text": [
      "[(0, '0.021*\"india\" + 0.021*\"beijing\" + 0.021*\"tie\" + 0.021*\"delhi\"'), (1, '0.017*\"international\" + 0.017*\"news\" + 0.017*\"tibet\" + 0.017*\"chinese\"')]\n"
     ]
    }
   ],
   "source": [
    "print(ldamodel.print_topics(num_topics=2, num_words=4))"
   ]
  },
  {
   "cell_type": "code",
   "execution_count": null,
   "metadata": {},
   "outputs": [],
   "source": []
  }
 ],
 "metadata": {
  "kernelspec": {
   "display_name": "Python 3",
   "language": "python",
   "name": "python3"
  },
  "language_info": {
   "codemirror_mode": {
    "name": "ipython",
    "version": 3
   },
   "file_extension": ".py",
   "mimetype": "text/x-python",
   "name": "python",
   "nbconvert_exporter": "python",
   "pygments_lexer": "ipython3",
   "version": "3.6.4"
  }
 },
 "nbformat": 4,
 "nbformat_minor": 2
}
